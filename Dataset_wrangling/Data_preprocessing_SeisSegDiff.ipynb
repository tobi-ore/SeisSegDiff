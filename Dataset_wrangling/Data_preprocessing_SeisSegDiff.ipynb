{
 "cells": [
  {
   "cell_type": "code",
   "execution_count": 1,
   "metadata": {
    "colab": {
     "base_uri": "https://localhost:8080/"
    },
    "executionInfo": {
     "elapsed": 11556,
     "status": "ok",
     "timestamp": 1705528578913,
     "user": {
      "displayName": "Tobi Ore",
      "userId": "09775268855141091697"
     },
     "user_tz": 300
    },
    "id": "1GaN5gs8KKDp",
    "outputId": "ba0dfa14-590f-4749-bf33-0c2b427b62d5"
   },
   "outputs": [
    {
     "name": "stdout",
     "output_type": "stream",
     "text": [
      "Drive already mounted at /content/drive; to attempt to forcibly remount, call drive.mount(\"/content/drive\", force_remount=True).\n"
     ]
    }
   ],
   "source": [
    "from google.colab import drive\n",
    "drive.mount('/content/drive')"
   ]
  },
  {
   "cell_type": "code",
   "execution_count": null,
   "metadata": {
    "colab": {
     "base_uri": "https://localhost:8080/"
    },
    "executionInfo": {
     "elapsed": 38797,
     "status": "ok",
     "timestamp": 1702732186903,
     "user": {
      "displayName": "Tobi Ore",
      "userId": "09775268855141091697"
     },
     "user_tz": 300
    },
    "id": "qzxG4rUjpRLQ",
    "outputId": "b4512d49-4ebd-4544-8b26-12fc16080a08"
   },
   "outputs": [
    {
     "name": "stdout",
     "output_type": "stream",
     "text": [
      "Downloading...\n",
      "From: https://drive.google.com/uc?export=download&id=1cCQis-CMm8s564l3sAmcMocJShrEqwXZ\n",
      "To: /content/drive/Othercomputers/My Computer/DIssertation Research/F3_entire.segy\n",
      "100% 1.29G/1.29G [00:35<00:00, 36.1MB/s]\n"
     ]
    }
   ],
   "source": [
    "###download the F3 dataset from the google drive\n",
    "# !gdown 'https://drive.google.com/uc?export=download&id=1cCQis-CMm8s564l3sAmcMocJShrEqwXZ'"
   ]
  },
  {
   "cell_type": "code",
   "execution_count": null,
   "metadata": {
    "id": "MpVeLTcftZU6"
   },
   "outputs": [],
   "source": [
    "# !unzip F3_Demo_2020.zip -d F3_Dataset"
   ]
  },
  {
   "cell_type": "code",
   "execution_count": 2,
   "metadata": {
    "colab": {
     "base_uri": "https://localhost:8080/"
    },
    "executionInfo": {
     "elapsed": 230,
     "status": "ok",
     "timestamp": 1705528585527,
     "user": {
      "displayName": "Tobi Ore",
      "userId": "09775268855141091697"
     },
     "user_tz": 300
    },
    "id": "f_zLvNgMHz8D",
    "outputId": "70c74c48-5c8e-412d-fad0-eaaffc835eb9"
   },
   "outputs": [
    {
     "name": "stdout",
     "output_type": "stream",
     "text": [
      "/content/drive/MyDrive/Seismic_Data_Segy\n"
     ]
    }
   ],
   "source": [
    "cd ./drive/MyDrive/Seismic_Data_Segy"
   ]
  },
  {
   "cell_type": "code",
   "execution_count": 1,
   "metadata": {
    "colab": {
     "base_uri": "https://localhost:8080/"
    },
    "executionInfo": {
     "elapsed": 12033,
     "status": "ok",
     "timestamp": 1705528597739,
     "user": {
      "displayName": "Tobi Ore",
      "userId": "09775268855141091697"
     },
     "user_tz": 300
    },
    "id": "gHW5bb8RnKSw",
    "outputId": "2094f5c0-d10f-4b6d-aebf-51a9a674fbeb"
   },
   "outputs": [
    {
     "name": "stdout",
     "output_type": "stream",
     "text": [
      "Collecting segyio\n",
      "  Downloading segyio-1.9.12-cp38-cp38-macosx_10_9_x86_64.whl (83 kB)\n",
      "\u001b[K     |████████████████████████████████| 83 kB 1.1 MB/s eta 0:00:01\n",
      "\u001b[?25hRequirement already satisfied: numpy>=1.10 in /Users/tobiore/opt/anaconda3/lib/python3.8/site-packages (from segyio) (1.19.2)\n",
      "Installing collected packages: segyio\n",
      "Successfully installed segyio-1.9.12\n"
     ]
    }
   ],
   "source": [
    "!pip install segyio"
   ]
  },
  {
   "cell_type": "code",
   "execution_count": 5,
   "metadata": {
    "executionInfo": {
     "elapsed": 618,
     "status": "ok",
     "timestamp": 1705528598355,
     "user": {
      "displayName": "Tobi Ore",
      "userId": "09775268855141091697"
     },
     "user_tz": 300
    },
    "id": "DpPQqz-7wbIC"
   },
   "outputs": [
    {
     "ename": "ModuleNotFoundError",
     "evalue": "No module named 'cv2'",
     "output_type": "error",
     "traceback": [
      "\u001b[0;31m---------------------------------------------------------------------------\u001b[0m",
      "\u001b[0;31mModuleNotFoundError\u001b[0m                       Traceback (most recent call last)",
      "\u001b[0;32m<ipython-input-5-a65d618643ab>\u001b[0m in \u001b[0;36m<module>\u001b[0;34m\u001b[0m\n\u001b[1;32m      7\u001b[0m \u001b[0;32mimport\u001b[0m \u001b[0mmatplotlib\u001b[0m\u001b[0;34m.\u001b[0m\u001b[0mimage\u001b[0m \u001b[0;32mas\u001b[0m \u001b[0mim\u001b[0m\u001b[0;34m\u001b[0m\u001b[0;34m\u001b[0m\u001b[0m\n\u001b[1;32m      8\u001b[0m \u001b[0;32mimport\u001b[0m \u001b[0mimageio\u001b[0m\u001b[0;34m\u001b[0m\u001b[0;34m\u001b[0m\u001b[0m\n\u001b[0;32m----> 9\u001b[0;31m \u001b[0;32mimport\u001b[0m \u001b[0mcv2\u001b[0m\u001b[0;34m\u001b[0m\u001b[0;34m\u001b[0m\u001b[0m\n\u001b[0m",
      "\u001b[0;31mModuleNotFoundError\u001b[0m: No module named 'cv2'"
     ]
    }
   ],
   "source": [
    "import os\n",
    "import segyio\n",
    "import numpy as np\n",
    "from shutil import copyfile\n",
    "import matplotlib.pyplot as plt\n",
    "from PIL import Image\n",
    "import matplotlib.image as im\n",
    "import imageio\n",
    "import cv2"
   ]
  },
  {
   "cell_type": "markdown",
   "metadata": {
    "id": "002eH4H6T2uo"
   },
   "source": [
    "## Prepare data for training diffusion model"
   ]
  },
  {
   "cell_type": "code",
   "execution_count": null,
   "metadata": {
    "colab": {
     "base_uri": "https://localhost:8080/"
    },
    "executionInfo": {
     "elapsed": 35704,
     "status": "ok",
     "timestamp": 1704906170621,
     "user": {
      "displayName": "Tobi Ore",
      "userId": "09775268855141091697"
     },
     "user_tz": 300
    },
    "id": "V36Q91qsnKY4",
    "outputId": "0fffdb82-16b5-4765-cdde-f519aa34e9e0"
   },
   "outputs": [
    {
     "name": "stdout",
     "output_type": "stream",
     "text": [
      "(651, 951, 462)\n",
      "(782, 590, 1006)\n"
     ]
    }
   ],
   "source": [
    "filename = 'F3_entire.segy'\n",
    "inlines = []\n",
    "with segyio.open(filename, \"r\") as segyfile:\n",
    "\n",
    "    # Memory map file for faster reading (especially if file is big...)\n",
    "    segyfile.mmap()\n",
    "\n",
    "    for inline in segyfile.ilines:\n",
    "        inlines.append(segyfile.iline[inline])\n",
    "\n",
    "# abs_max = np.max(np.abs(inlines))\n",
    "# scale = 1.0/(2.0*abs_max)\n",
    "\n",
    "f3_inlines = np.array(inlines)\n",
    "# inlines = inlines*factor\n",
    "# inlines = 2*((inlines - np.min(inlines)) / (np.max(inlines) - np.min(inlines)))-1\n",
    "# slice_segy = (inlines.T.clip(-abs_max, abs_max) + abs_max)*scale\n",
    "\n",
    "print(f3_inlines.shape)\n",
    "\n",
    "paritrain = np.load('./Labeled_Facies/Parihaka/data_train.npz')\n",
    "paritrain = paritrain['data']\n",
    "paritrain=np.transpose(paritrain, (1, 2, 0))\n",
    "print(paritrain.shape)"
   ]
  },
  {
   "cell_type": "code",
   "execution_count": null,
   "metadata": {
    "id": "3V9ImUlyWGSE"
   },
   "outputs": [],
   "source": [
    "f3_clean1 = f3_inlines[:601,:,206:]\n",
    "f3_clean2 = f3_inlines[601:,400:900,206:]"
   ]
  },
  {
   "cell_type": "code",
   "execution_count": null,
   "metadata": {
    "colab": {
     "base_uri": "https://localhost:8080/"
    },
    "executionInfo": {
     "elapsed": 204,
     "status": "ok",
     "timestamp": 1704905913691,
     "user": {
      "displayName": "Tobi Ore",
      "userId": "09775268855141091697"
     },
     "user_tz": 300
    },
    "id": "byaVvpYDWMoL",
    "outputId": "8035236e-029f-4571-bfaa-3333aa6bdc6e"
   },
   "outputs": [
    {
     "data": {
      "text/plain": [
       "(601, 951, 256)"
      ]
     },
     "execution_count": 7,
     "metadata": {},
     "output_type": "execute_result"
    }
   ],
   "source": [
    "f3_clean1.shape"
   ]
  },
  {
   "cell_type": "code",
   "execution_count": null,
   "metadata": {
    "colab": {
     "base_uri": "https://localhost:8080/",
     "height": 453
    },
    "executionInfo": {
     "elapsed": 498,
     "status": "ok",
     "timestamp": 1704905915576,
     "user": {
      "displayName": "Tobi Ore",
      "userId": "09775268855141091697"
     },
     "user_tz": 300
    },
    "id": "2qzWylNOKggT",
    "outputId": "e0be5bab-9155-4106-f0ff-30e96c1b52d1"
   },
   "outputs": [
    {
     "data": {
      "text/plain": [
       "<matplotlib.image.AxesImage at 0x7c12b8dfc8b0>"
      ]
     },
     "execution_count": 8,
     "metadata": {},
     "output_type": "execute_result"
    },
    {
     "data": {
      "image/png": "[encoded data removed]",
      "text/plain": [
       "<Figure size 640x480 with 1 Axes>"
      ]
     },
     "metadata": {},
     "output_type": "display_data"
    }
   ],
   "source": [
    "plt.imshow(f3_clean2[1,:,:], cmap='Greys')"
   ]
  },
  {
   "cell_type": "code",
   "execution_count": null,
   "metadata": {
    "id": "8pdFlaIK8NCD"
   },
   "outputs": [],
   "source": [
    "# plt.imshow(slice_segy[400,:,:], cmap='Greys')"
   ]
  },
  {
   "cell_type": "code",
   "execution_count": null,
   "metadata": {
    "id": "NaHu8Hs76ddn"
   },
   "outputs": [],
   "source": [
    "def crop_and_save_images(data, output_directory, seismic_name = '',type='seismic', crop_size=256):\n",
    "    if not os.path.exists(output_directory):\n",
    "        os.makedirs(output_directory)\n",
    "\n",
    "    min_value = np.min(data)\n",
    "    max_value = np.max(data)\n",
    "    data = 256 * (data - min_value) / (max_value - min_value)\n",
    "    data = data.astype(np.uint8)\n",
    "\n",
    "    patch_no=0\n",
    "    x_ax, y_ax, z_ax = data.shape\n",
    "    for x in range(0, x_ax):\n",
    "        sliced_data = data[x, :, :]\n",
    "        for z in range(0, z_ax, crop_size):\n",
    "            for y in range(0, y_ax, crop_size):\n",
    "                cropped_data = sliced_data[y:y+crop_size, z:z+crop_size]\n",
    "                if cropped_data.shape == (crop_size, crop_size):\n",
    "                    image_path = os.path.join(output_directory, f'{seismic_name}_{x}_{y}_{z}.jpg')\n",
    "                    imageio.imwrite(image_path, cropped_data)\n",
    "                    patch_no+=1\n",
    "\n",
    "        if x%100 == 0:\n",
    "            print(f\"Saved {x} inlines as patches\")\n",
    "    print(f\"Total of {x} inlines saved as patches\")\n",
    "    ##overlap to not loose information at the edge\n",
    "    print('--------------')\n",
    "    print('Working on the edge patches')\n",
    "    for x in range(0, x_ax):\n",
    "        sliced_data = data[x, :, :]\n",
    "        for z in range(z_ax-crop_size, z_ax-crop_size-1, -crop_size):\n",
    "            for y in range(y_ax-crop_size, y_ax-crop_size-1, -crop_size):\n",
    "                cropped_data = sliced_data[y:y+crop_size, z:z+crop_size]\n",
    "                if cropped_data.shape == (crop_size, crop_size):\n",
    "                    image_path = os.path.join(output_directory, f'{seismic_name}-overlap_{y_ax%crop_size}_{z_ax%crop_size}_{x}_{y}_{z}.jpg')\n",
    "                    imageio.imwrite(image_path, cropped_data)\n",
    "                    patch_no+=1\n",
    "    print('Patches done!!!')\n",
    "    print(f'{patch_no} patches saved')\n",
    "    print('---------------------------')"
   ]
  },
  {
   "cell_type": "code",
   "execution_count": null,
   "metadata": {
    "colab": {
     "base_uri": "https://localhost:8080/"
    },
    "executionInfo": {
     "elapsed": 71799,
     "status": "ok",
     "timestamp": 1704906254363,
     "user": {
      "displayName": "Tobi Ore",
      "userId": "09775268855141091697"
     },
     "user_tz": 300
    },
    "id": "aqA8z9-6UHZK",
    "outputId": "6de28fc5-fb37-45cb-8b75-d0ecc39c2845"
   },
   "outputs": [
    {
     "name": "stdout",
     "output_type": "stream",
     "text": [
      "Saved 0 inlines as patches\n",
      "Saved 100 inlines as patches\n",
      "Saved 200 inlines as patches\n",
      "Saved 300 inlines as patches\n",
      "Saved 400 inlines as patches\n",
      "Saved 500 inlines as patches\n",
      "Saved 600 inlines as patches\n",
      "Total of 600 inlines saved as patches\n",
      "--------------\n",
      "Working on the edge patches\n",
      "Patches done!!!\n",
      "2404 patches saved\n",
      "---------------------------\n",
      "Saved 0 inlines as patches\n",
      "Total of 49 inlines saved as patches\n",
      "--------------\n",
      "Working on the edge patches\n",
      "Patches done!!!\n",
      "100 patches saved\n",
      "---------------------------\n",
      "Saved 0 inlines as patches\n",
      "Saved 100 inlines as patches\n",
      "Saved 200 inlines as patches\n",
      "Saved 300 inlines as patches\n",
      "Saved 400 inlines as patches\n",
      "Saved 500 inlines as patches\n",
      "Saved 600 inlines as patches\n",
      "Saved 700 inlines as patches\n",
      "Total of 781 inlines saved as patches\n",
      "--------------\n",
      "Working on the edge patches\n",
      "Patches done!!!\n",
      "5474 patches saved\n",
      "---------------------------\n"
     ]
    }
   ],
   "source": [
    "output_directory = './data_patches/diffusion_data'\n",
    "crop_and_save_images(f3_clean1, output_directory,seismic_name = 'F3_clean1',type='seismic')\n",
    "crop_and_save_images(f3_clean2, output_directory,seismic_name = 'F3_clean2',type='seismic')\n",
    "crop_and_save_images(paritrain, output_directory,seismic_name = 'Pari',type='seismic')"
   ]
  },
  {
   "cell_type": "markdown",
   "metadata": {
    "id": "9IMnHG1FVVCZ"
   },
   "source": [
    "---\n",
    "## Segmentation training and testing data"
   ]
  },
  {
   "cell_type": "code",
   "execution_count": null,
   "metadata": {
    "colab": {
     "base_uri": "https://localhost:8080/"
    },
    "executionInfo": {
     "elapsed": 262,
     "status": "ok",
     "timestamp": 1704836358409,
     "user": {
      "displayName": "Tobi Ore",
      "userId": "09775268855141091697"
     },
     "user_tz": 300
    },
    "id": "B2K0hbLIOjEJ",
    "outputId": "46fe505f-ee0b-471a-95aa-9779392cab11"
   },
   "outputs": [
    {
     "name": "stdout",
     "output_type": "stream",
     "text": [
      "/content/drive/MyDrive/Seismic_Data_Segy\n"
     ]
    }
   ],
   "source": [
    "cd ./drive/MyDrive/Seismic_Data_Segy"
   ]
  },
  {
   "cell_type": "code",
   "execution_count": null,
   "metadata": {
    "id": "20bnOabUz_EQ"
   },
   "outputs": [],
   "source": [
    "import numpy as np\n",
    "import matplotlib.pyplot as plt\n",
    "import os\n",
    "import imageio"
   ]
  },
  {
   "cell_type": "code",
   "execution_count": null,
   "metadata": {
    "id": "spxvr0nL3Ghc"
   },
   "outputs": [],
   "source": [
    "def crop_and_save_images(data, output_directory, seismic_name = '',type='seismic', crop_size=256):\n",
    "    if not os.path.exists(output_directory):\n",
    "        os.makedirs(output_directory)\n",
    "\n",
    "    if type == 'seismic':\n",
    "        min_value = np.min(data)\n",
    "        max_value = np.max(data)\n",
    "        data = 256 * (data - min_value) / (max_value - min_value)\n",
    "        data = data.astype(np.uint8)\n",
    "\n",
    "        patch_no=0\n",
    "        x_ax, y_ax, z_ax = data.shape\n",
    "        for x in range(0, x_ax):\n",
    "            sliced_data = data[x, :, :]\n",
    "            for z in range(0, z_ax, crop_size):\n",
    "                for y in range(0, y_ax, crop_size):\n",
    "                    cropped_data = sliced_data[y:y+crop_size, z:z+crop_size]\n",
    "                    if cropped_data.shape == (crop_size, crop_size):\n",
    "                        image_path = os.path.join(output_directory, f'{seismic_name}_{x}_{y}_{z}.jpg')\n",
    "                        imageio.imwrite(image_path, cropped_data)\n",
    "                        patch_no+=1\n",
    "            #overlap to not loose information at the edge\n",
    "            if z_ax%crop_size > 0:\n",
    "                for y in range(0, y_ax, crop_size):\n",
    "                    cropped_data = sliced_data[y:y+crop_size, -crop_size:]\n",
    "                    if cropped_data.shape == (crop_size, crop_size):\n",
    "                        image_path = os.path.join(output_directory, f'{seismic_name}-overlap_{x}_{y}_{z_ax-z_ax%crop_size}_{y_ax}_{z_ax}.jpg')\n",
    "                        imageio.imwrite(image_path, cropped_data)\n",
    "                        patch_no+=1\n",
    "            if y_ax%crop_size > 0:\n",
    "                for z in range(0, z_ax, crop_size):\n",
    "                    cropped_data = sliced_data[ -crop_size:, z:z+crop_size]\n",
    "                    if cropped_data.shape == (crop_size, crop_size):\n",
    "                        image_path = os.path.join(output_directory, f'{seismic_name}-overlap_{x}_{y_ax-y_ax%crop_size}_{z}_{y_ax}_{z_ax}.jpg')\n",
    "                        imageio.imwrite(image_path, cropped_data)\n",
    "                        patch_no+=1\n",
    "            if y_ax%crop_size > 0 and z_ax%crop_size > 0:\n",
    "                cropped_data = sliced_data[-crop_size:, -crop_size:]\n",
    "                if cropped_data.shape == (crop_size, crop_size):\n",
    "                    image_path = os.path.join(output_directory, f'{seismic_name}-overlap_{x}_{y_ax-y_ax%crop_size}_{z_ax-z_ax%crop_size}_{y_ax}_{z_ax}.jpg')\n",
    "                    imageio.imwrite(image_path, cropped_data)\n",
    "                    patch_no+=1\n",
    "\n",
    "            if x%100 == 0:\n",
    "                print(f\"Saved {x+1} inlines as patches\")\n",
    "\n",
    "        print('Patches done!!!')\n",
    "        print(f\"{x+1} inlines saved as patches\")\n",
    "        print(f'{patch_no} patches saved')\n",
    "        print('---------------------------')\n",
    "\n",
    "    elif type == 'label':\n",
    "        patch_no=0\n",
    "        x_ax, y_ax, z_ax = data.shape\n",
    "        for x in range(0, x_ax):\n",
    "            sliced_data = data[x, :, :]\n",
    "            for z in range(0, z_ax, crop_size):\n",
    "                for y in range(0, y_ax, crop_size):\n",
    "                    cropped_data = sliced_data[y:y+crop_size, z:z+crop_size]\n",
    "                    if cropped_data.shape == (crop_size, crop_size):\n",
    "                        label_path = os.path.join(output_directory, f'{seismic_name}_{x}_{y}_{z}.npy')\n",
    "                        np.save(label_path, cropped_data)\n",
    "                        patch_no+=1\n",
    "            #overlap to not loose information at the edge\n",
    "            if z_ax%crop_size > 0:\n",
    "                for y in range(0, y_ax, crop_size):\n",
    "                    cropped_data = sliced_data[y:y+crop_size, -crop_size:]\n",
    "                    if cropped_data.shape == (crop_size, crop_size):\n",
    "                        label_path = os.path.join(output_directory, f'{seismic_name}-overlap_{x}_{y}_{z_ax-z_ax%crop_size}_{y_ax}_{z_ax}.npy')\n",
    "                        np.save(label_path, cropped_data)\n",
    "                        patch_no+=1\n",
    "            if y_ax%crop_size > 0:\n",
    "                for z in range(0, z_ax, crop_size):\n",
    "                    cropped_data = sliced_data[ -crop_size:, z:z+crop_size]\n",
    "                    if cropped_data.shape == (crop_size, crop_size):\n",
    "                        label_path = os.path.join(output_directory, f'{seismic_name}-overlap_{x}_{y_ax-y_ax%crop_size}_{z}_{y_ax}_{z_ax}.npy')\n",
    "                        np.save(label_path, cropped_data)\n",
    "                        patch_no+=1\n",
    "            if y_ax%crop_size > 0 and z_ax%crop_size > 0:\n",
    "                cropped_data = sliced_data[-crop_size:, -crop_size:]\n",
    "                if cropped_data.shape == (crop_size, crop_size):\n",
    "                    label_path = os.path.join(output_directory, f'{seismic_name}-overlap_{x}_{y_ax-y_ax%crop_size}_{z_ax-z_ax%crop_size}_{y_ax}_{z_ax}.npy')\n",
    "                    np.save(label_path, cropped_data)\n",
    "                    patch_no+=1\n",
    "\n",
    "            if x%100 == 0:\n",
    "                print(f\"Saved {x+1} inlines as patches\")\n",
    "\n",
    "        print('Patches done!!!')\n",
    "        print(f\"{x+1} inlines saved as patches\")\n",
    "        print(f'{patch_no} patches saved')\n",
    "        print('---------------------------')"
   ]
  },
  {
   "cell_type": "code",
   "execution_count": null,
   "metadata": {
    "id": "Una38g6g_JKc"
   },
   "outputs": [],
   "source": [
    "#F3 labeled data\n",
    "\n",
    "f3train = np.load('./Labeled_Facies/F3/train/train_seismic.npy')\n",
    "n = f3train.shape\n",
    "f3train = np.concatenate((f3train, f3train[:,:,-1].reshape(n[0],n[1],1)), axis=2)\n",
    "\n",
    "f3train_label = np.load('./Labeled_Facies/F3/train/train_labels.npy')\n",
    "f3train_label = np.concatenate((f3train_label, f3train_label[:,:,-1].reshape(n[0],n[1],1)), axis=2)\n",
    "\n",
    "f3test1 = np.load('./Labeled_Facies/F3/test_once/test1_seismic.npy')\n",
    "n = f3test1.shape\n",
    "f3test1 = np.concatenate((f3test1, f3test1[:,:,-1].reshape(n[0],n[1],1)), axis=2)\n",
    "\n",
    "f3test1_label = np.load('./Labeled_Facies/F3/test_once/test1_labels.npy')\n",
    "f3test1_label = np.concatenate((f3test1_label, f3test1_label[:,:,-1].reshape(n[0],n[1],1)), axis=2)\n",
    "\n",
    "# f3test2 = np.load('./Labeled_Facies/F3/test_once/test2_seismic.npy')\n",
    "# n = f3test2.shape\n",
    "# f3test2 = np.concatenate((f3test2, f3test2[:,:,-1].reshape(n[0],n[1],1)), axis=2)\n",
    "\n",
    "# f3test2_label = np.load('./Labeled_Facies/F3/test_once/test2_labels.npy')\n",
    "# f3test2_label = np.concatenate((f3test2_label, f3test2_label[:,:,-1].reshape(n[0],n[1],1)), axis=2)"
   ]
  },
  {
   "cell_type": "code",
   "execution_count": null,
   "metadata": {
    "id": "vMXpUzYbu8Rp"
   },
   "outputs": [],
   "source": [
    "#join test and train together\n",
    "f3 = np.concatenate((f3test1,f3train))\n",
    "f3label = np.concatenate((f3test1_label,f3train_label))"
   ]
  },
  {
   "cell_type": "code",
   "execution_count": null,
   "metadata": {
    "id": "E7PoV3DaiQj0"
   },
   "outputs": [],
   "source": [
    "n = f3.shape[0]\n",
    "\n",
    "training_lines = np.linspace(0, n-1, 10, dtype=int)\n",
    "f3train_lines_n = f3[training_lines,:,:]\n",
    "f3train_label_lines_n = f3label[training_lines,:,:]"
   ]
  },
  {
   "cell_type": "code",
   "execution_count": 27,
   "metadata": {
    "executionInfo": {
     "elapsed": 31327,
     "status": "ok",
     "timestamp": 1705383452957,
     "user": {
      "displayName": "Tobi Ore",
      "userId": "09775268855141091697"
     },
     "user_tz": 300
    },
    "id": "ZCDPsmkRdhp3"
   },
   "outputs": [],
   "source": [
    "pari = np.load('./Labeled_Facies/Parihaka/data_train.npz')\n",
    "pari = pari['data']\n",
    "pari=np.transpose(pari, (1, 2, 0))\n",
    "\n",
    "parilabel = np.load('./Labeled_Facies/Parihaka/labels_train.npz')\n",
    "parilabel = parilabel['labels']\n",
    "parilabel = parilabel - 1\n",
    "parilabel = np.transpose(parilabel, (1, 2, 0))\n",
    "\n",
    "paritrain = pari[0:501,:,:]\n",
    "paritest = pari[501:,:,:]\n",
    "\n",
    "parilabeltrain = parilabel[0:501,:,:]\n",
    "parilabeltest = parilabel[501:,:,:]"
   ]
  },
  {
   "cell_type": "code",
   "execution_count": null,
   "metadata": {
    "id": "HRdLMVj_n26D"
   },
   "outputs": [],
   "source": [
    "n = paritrain.shape[0]\n",
    "\n",
    "training_lines = np.linspace(0, n-1, 10, dtype=int)\n",
    "paritrain_lines = paritrain[training_lines,:,:]\n",
    "parilabeltrain_lines = parilabeltrain[training_lines,:,:]"
   ]
  },
  {
   "cell_type": "code",
   "execution_count": null,
   "metadata": {
    "colab": {
     "base_uri": "https://localhost:8080/",
     "height": 374
    },
    "executionInfo": {
     "elapsed": 1203,
     "status": "ok",
     "timestamp": 1705162901879,
     "user": {
      "displayName": "Tobi Ore",
      "userId": "09775268855141091697"
     },
     "user_tz": 300
    },
    "id": "Azfh1W6PHoBh",
    "outputId": "20372a49-979d-44fd-9c36-1d165bd95a89"
   },
   "outputs": [
    {
     "data": {
      "text/plain": [
       "<matplotlib.image.AxesImage at 0x7deea56544f0>"
      ]
     },
     "execution_count": 21,
     "metadata": {},
     "output_type": "execute_result"
    },
    {
     "data": {
      "image/png": "[encoded data removed]",
      "text/plain": [
       "<Figure size 640x480 with 1 Axes>"
      ]
     },
     "metadata": {},
     "output_type": "display_data"
    }
   ],
   "source": [
    "plt.imshow(parilabeltrain[1])"
   ]
  },
  {
   "cell_type": "code",
   "execution_count": 17,
   "metadata": {
    "executionInfo": {
     "elapsed": 4494,
     "status": "ok",
     "timestamp": 1705383614314,
     "user": {
      "displayName": "Tobi Ore",
      "userId": "09775268855141091697"
     },
     "user_tz": 300
    },
    "id": "MoJoc2pNv-QL"
   },
   "outputs": [],
   "source": [
    "#return 10 equally spaced inline\n",
    "n = pari.shape[0]\n",
    "\n",
    "training_lines = np.linspace(0, n-1, 10, dtype=int)\n",
    "paritrain_lines = pari[training_lines]\n",
    "paritest_lines = np.delete(pari, training_lines, axis=0)\n",
    "parilabeltrain_lines = parilabel[training_lines]\n",
    "parilabeltest_lines = np.delete(parilabel, training_lines, axis=0)\n",
    "\n",
    "n = f3.shape[0]\n",
    "\n",
    "training_lines = np.linspace(0, n-1, 10, dtype=int)\n",
    "f3train_lines = f3[training_lines]\n",
    "f3test_lines = np.delete(f3, training_lines, axis=0)\n",
    "f3labeltrain_lines = f3label[training_lines]\n",
    "f3labeltest_lines = np.delete(f3label, training_lines, axis=0)"
   ]
  },
  {
   "cell_type": "code",
   "execution_count": 20,
   "metadata": {
    "colab": {
     "base_uri": "https://localhost:8080/"
    },
    "executionInfo": {
     "elapsed": 58675,
     "status": "ok",
     "timestamp": 1705383859914,
     "user": {
      "displayName": "Tobi Ore",
      "userId": "09775268855141091697"
     },
     "user_tz": 300
    },
    "id": "CyA59NNvyy1T",
    "outputId": "c24bc432-6026-4b8e-9716-23c700771dcf"
   },
   "outputs": [
    {
     "name": "stdout",
     "output_type": "stream",
     "text": [
      "Saved 0 inlines as patches\n",
      "Patches done!!!\n",
      "9 inlines saved as patches\n",
      "30 patches saved\n",
      "---------------------------\n",
      "Saved 0 inlines as patches\n",
      "Patches done!!!\n",
      "9 inlines saved as patches\n",
      "30 patches saved\n",
      "---------------------------\n",
      "Saved 0 inlines as patches\n",
      "Saved 100 inlines as patches\n",
      "Saved 200 inlines as patches\n",
      "Saved 300 inlines as patches\n",
      "Saved 400 inlines as patches\n",
      "Saved 500 inlines as patches\n",
      "Patches done!!!\n",
      "590 inlines saved as patches\n",
      "1773 patches saved\n",
      "---------------------------\n",
      "Saved 0 inlines as patches\n",
      "Saved 100 inlines as patches\n",
      "Saved 200 inlines as patches\n",
      "Saved 300 inlines as patches\n",
      "Saved 400 inlines as patches\n",
      "Saved 500 inlines as patches\n",
      "Patches done!!!\n",
      "590 inlines saved as patches\n",
      "1773 patches saved\n",
      "---------------------------\n"
     ]
    }
   ],
   "source": [
    "#save F3 seismic and labels for 10 lines training and testing\n",
    "output_directory = './Training_Testing_Data/F3_train'\n",
    "crop_and_save_images(f3train_lines, output_directory,seismic_name = 'F3train',type='seismic')\n",
    "crop_and_save_images(f3labeltrain_lines, output_directory,seismic_name = 'F3train',type='label')\n",
    "\n",
    "output_directory = './Training_Testing_Data/F3_test'\n",
    "crop_and_save_images(f3test_lines, output_directory,seismic_name = 'F3test',type='seismic')\n",
    "crop_and_save_images(f3labeltest_lines, output_directory,seismic_name = 'F3test',type='label')"
   ]
  },
  {
   "cell_type": "code",
   "execution_count": 322,
   "metadata": {
    "colab": {
     "base_uri": "https://localhost:8080/"
    },
    "executionInfo": {
     "elapsed": 52188,
     "status": "ok",
     "timestamp": 1705374080306,
     "user": {
      "displayName": "Tobi Ore",
      "userId": "09775268855141091697"
     },
     "user_tz": 300
    },
    "id": "cEPF1Pp9I3DJ",
    "outputId": "b7fcaf79-3b73-4ad6-f0d2-64c738945fc4"
   },
   "outputs": [
    {
     "name": "stdout",
     "output_type": "stream",
     "text": [
      "Saved 0 inlines as patches\n",
      "Saved 100 inlines as patches\n",
      "Saved 200 inlines as patches\n",
      "Saved 300 inlines as patches\n",
      "Saved 400 inlines as patches\n",
      "Patches done!!!\n",
      "400 inlines saved as patches\n",
      "1203 patches saved\n",
      "---------------------------\n",
      "Saved 0 inlines as patches\n",
      "Saved 100 inlines as patches\n",
      "Saved 200 inlines as patches\n",
      "Saved 300 inlines as patches\n",
      "Saved 400 inlines as patches\n",
      "Patches done!!!\n",
      "400 inlines saved as patches\n",
      "1203 patches saved\n",
      "---------------------------\n",
      "Saved 0 inlines as patches\n",
      "Saved 100 inlines as patches\n",
      "Patches done!!!\n",
      "199 inlines saved as patches\n",
      "600 patches saved\n",
      "---------------------------\n",
      "Saved 0 inlines as patches\n",
      "Saved 100 inlines as patches\n",
      "Patches done!!!\n",
      "199 inlines saved as patches\n",
      "600 patches saved\n",
      "---------------------------\n"
     ]
    }
   ],
   "source": [
    "##save full dataset with original train_test split\n",
    "output_directory = './labeled_data/F3_train'\n",
    "crop_and_save_images(f3train, output_directory,seismic_name = 'F3train',type='seismic')\n",
    "crop_and_save_images(f3train_label, output_directory,seismic_name = 'F3train',type='label')\n",
    "\n",
    "output_directory = './labeled_data/F3_test1'\n",
    "crop_and_save_images(f3test1, output_directory,seismic_name = 'F3test',type='seismic')\n",
    "crop_and_save_images(f3test1_label, output_directory,seismic_name = 'F3test',type='label')\n",
    "\n",
    "# output_directory = './data_patches/F3_test2'\n",
    "# crop_and_save_images(f3test2, output_directory,seismic_name = 'F3test2seismic',type='seismic')\n",
    "# crop_and_save_images(f3test2_label, output_directory,seismic_name = 'F3test2label',type='label')"
   ]
  },
  {
   "cell_type": "code",
   "execution_count": 21,
   "metadata": {
    "colab": {
     "base_uri": "https://localhost:8080/"
    },
    "executionInfo": {
     "elapsed": 317636,
     "status": "ok",
     "timestamp": 1705384187669,
     "user": {
      "displayName": "Tobi Ore",
      "userId": "09775268855141091697"
     },
     "user_tz": 300
    },
    "id": "6sVKm9uSzAyK",
    "outputId": "7c3b3db6-640d-49c5-8f76-b9804f46b6b8"
   },
   "outputs": [
    {
     "name": "stdout",
     "output_type": "stream",
     "text": [
      "Saved 0 inlines as patches\n",
      "Patches done!!!\n",
      "9 inlines saved as patches\n",
      "120 patches saved\n",
      "---------------------------\n",
      "Saved 0 inlines as patches\n",
      "Patches done!!!\n",
      "9 inlines saved as patches\n",
      "120 patches saved\n",
      "---------------------------\n",
      "Saved 0 inlines as patches\n",
      "Saved 100 inlines as patches\n",
      "Saved 200 inlines as patches\n",
      "Saved 300 inlines as patches\n",
      "Saved 400 inlines as patches\n",
      "Saved 500 inlines as patches\n",
      "Saved 600 inlines as patches\n",
      "Saved 700 inlines as patches\n",
      "Patches done!!!\n",
      "771 inlines saved as patches\n",
      "9264 patches saved\n",
      "---------------------------\n",
      "Saved 0 inlines as patches\n",
      "Saved 100 inlines as patches\n",
      "Saved 200 inlines as patches\n",
      "Saved 300 inlines as patches\n",
      "Saved 400 inlines as patches\n",
      "Saved 500 inlines as patches\n",
      "Saved 600 inlines as patches\n",
      "Saved 700 inlines as patches\n",
      "Patches done!!!\n",
      "771 inlines saved as patches\n",
      "9264 patches saved\n",
      "---------------------------\n"
     ]
    }
   ],
   "source": [
    "#save Pari seismic and labels for 10 lines training and testing\n",
    "output_directory = './Training_Testing_Data/Pari_train'\n",
    "crop_and_save_images(paritrain_lines, output_directory,seismic_name = 'Paritrain',type='seismic')\n",
    "crop_and_save_images(parilabeltrain_lines, output_directory,seismic_name = 'Paritrain',type='label')\n",
    "\n",
    "output_directory = './Training_Testing_Data/Pari_test'\n",
    "crop_and_save_images(paritest_lines, output_directory,seismic_name = 'Paritest',type='seismic')\n",
    "crop_and_save_images(parilabeltest_lines, output_directory,seismic_name = 'Paritest',type='label')"
   ]
  },
  {
   "cell_type": "code",
   "execution_count": 323,
   "metadata": {
    "colab": {
     "base_uri": "https://localhost:8080/"
    },
    "executionInfo": {
     "elapsed": 299410,
     "status": "ok",
     "timestamp": 1705374379707,
     "user": {
      "displayName": "Tobi Ore",
      "userId": "09775268855141091697"
     },
     "user_tz": 300
    },
    "id": "eqBfgoc3NQO2",
    "outputId": "15fa45b0-dd84-403b-a631-618a176ffbd9"
   },
   "outputs": [
    {
     "name": "stdout",
     "output_type": "stream",
     "text": [
      "Saved 0 inlines as patches\n",
      "Saved 100 inlines as patches\n",
      "Saved 200 inlines as patches\n",
      "Saved 300 inlines as patches\n",
      "Saved 400 inlines as patches\n",
      "Saved 500 inlines as patches\n",
      "Patches done!!!\n",
      "500 inlines saved as patches\n",
      "6012 patches saved\n",
      "---------------------------\n",
      "Saved 0 inlines as patches\n",
      "Saved 100 inlines as patches\n",
      "Saved 200 inlines as patches\n",
      "Saved 300 inlines as patches\n",
      "Saved 400 inlines as patches\n",
      "Saved 500 inlines as patches\n",
      "Patches done!!!\n",
      "500 inlines saved as patches\n",
      "6012 patches saved\n",
      "---------------------------\n",
      "Saved 0 inlines as patches\n",
      "Saved 100 inlines as patches\n",
      "Saved 200 inlines as patches\n",
      "Patches done!!!\n",
      "280 inlines saved as patches\n",
      "3372 patches saved\n",
      "---------------------------\n",
      "Saved 0 inlines as patches\n",
      "Saved 100 inlines as patches\n",
      "Saved 200 inlines as patches\n",
      "Patches done!!!\n",
      "280 inlines saved as patches\n",
      "3372 patches saved\n",
      "---------------------------\n"
     ]
    }
   ],
   "source": [
    "##save full dataset with original train_test split\n",
    "output_directory = './labeled_data/Pari/train'\n",
    "crop_and_save_images(paritrain, output_directory,seismic_name = 'Paritrain',type='seismic')\n",
    "crop_and_save_images(parilabeltrain, output_directory,seismic_name = 'Paritrain',type='label')\n",
    "\n",
    "output_directory = './labeled_data/Pari/test'\n",
    "crop_and_save_images(paritest, output_directory,seismic_name = 'Paritest',type='seismic')\n",
    "crop_and_save_images(parilabeltest, output_directory,seismic_name = 'Paritest',type='label')"
   ]
  }
 ],
 "metadata": {
  "accelerator": "GPU",
  "colab": {
   "authorship_tag": "ABX9TyN+c+30CjUjOlZTxHHX4a34",
   "gpuType": "A100",
   "mount_file_id": "1MTMGqVxZGxP12ZpvcAYJBHBxpOvg1n3p",
   "provenance": []
  },
  "kernelspec": {
   "display_name": "Python 3",
   "language": "python",
   "name": "python3"
  },
  "language_info": {
   "codemirror_mode": {
    "name": "ipython",
    "version": 3
   },
   "file_extension": ".py",
   "mimetype": "text/x-python",
   "name": "python",
   "nbconvert_exporter": "python",
   "pygments_lexer": "ipython3",
   "version": "3.8.5"
  }
 },
 "nbformat": 4,
 "nbformat_minor": 4
}
